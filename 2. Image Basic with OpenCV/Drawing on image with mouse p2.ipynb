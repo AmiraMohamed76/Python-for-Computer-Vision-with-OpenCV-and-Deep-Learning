{
 "cells": [
  {
   "cell_type": "code",
   "execution_count": 2,
   "metadata": {},
   "outputs": [],
   "source": [
    "import cv2\n",
    "import numpy as np"
   ]
  },
  {
   "cell_type": "code",
   "execution_count": 3,
   "metadata": {},
   "outputs": [],
   "source": [
    "##############\n",
    "## VARIABLES ##\n",
    "##############\n",
    "\n",
    "# True while mouse is button down (clicked) & False while mouse is button up (relase)\n",
    "drawing = False\n",
    "ix = -1\n",
    "iy = -1\n",
    "\n",
    "##############\n",
    "## FUNCTION ##\n",
    "##############\n",
    "\n",
    "def draw_rectangle(event ,x ,y ,flags, param):\n",
    "    \n",
    "    global drawing , ix,iy              # make variables global\n",
    "    \n",
    "    if event == cv2.EVENT_LBUTTONDOWN:  # Clincking of mouse - make drawing TRUE\n",
    "        drawing = True                  #                        - take postions of mouse x ,y & put in ix,iy \n",
    "        ix,iy = x,y\n",
    "    \n",
    "    elif event == cv2.EVENT_MOUSEMOVE:  # Moving of mouse - check if drawing TRUE\n",
    "        if drawing == True:             #                   - create rectangle from postions of mouse ix,iy \n",
    "            cv2.rectangle(img ,(ix,iy) ,(x,y) ,(0,0,225) ,-1 )  \n",
    "    \n",
    "    elif event == cv2.EVENT_LBUTTONUP:  # relasing of mouse - make drawing False\n",
    "        drawing = False                 #                   - create end of rectangle from postions of mouse ix,iy \n",
    "        cv2.rectangle(img ,(ix,iy) ,(x,y) ,(0,0,255) ,-1 )\n",
    "     \n",
    "\n",
    "###############################\n",
    "## SHOWING IMAGE WITH OPENCV ##\n",
    "###############################\n",
    "\n",
    "# Create black image\n",
    "img = np.zeros((512,512,3))\n",
    "\n",
    "# To relate it with window\n",
    "cv2.namedWindow(winname ='my_drawing')\n",
    "\n",
    "# To relate window with function\n",
    "cv2.setMouseCallback('my_drawing', draw_rectangle)\n",
    "\n",
    "# To display black image on window\n",
    "while True:\n",
    "    cv2.imshow('my_drawing', img)\n",
    "    \n",
    "    # To check For ESC to close window\n",
    "    if cv2.waitKey(1) & 0xFF ==27:\n",
    "        break\n",
    "\n",
    "cv2.destroyAllWindows()"
   ]
  },
  {
   "cell_type": "code",
   "execution_count": null,
   "metadata": {},
   "outputs": [],
   "source": []
  }
 ],
 "metadata": {
  "kernelspec": {
   "display_name": "Python 3",
   "language": "python",
   "name": "python3"
  },
  "language_info": {
   "codemirror_mode": {
    "name": "ipython",
    "version": 3
   },
   "file_extension": ".py",
   "mimetype": "text/x-python",
   "name": "python",
   "nbconvert_exporter": "python",
   "pygments_lexer": "ipython3",
   "version": "3.6.6"
  }
 },
 "nbformat": 4,
 "nbformat_minor": 4
}
