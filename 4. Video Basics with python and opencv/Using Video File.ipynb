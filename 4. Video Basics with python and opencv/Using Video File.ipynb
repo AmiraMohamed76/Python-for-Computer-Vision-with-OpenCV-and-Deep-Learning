{
 "cells": [
  {
   "cell_type": "code",
   "execution_count": 1,
   "metadata": {},
   "outputs": [],
   "source": [
    "# WORKING WITH EXISTS VIDEO FILE WITH OPENCV"
   ]
  },
  {
   "cell_type": "code",
   "execution_count": 7,
   "metadata": {},
   "outputs": [],
   "source": [
    "import cv2 \n",
    "import time\n",
    "\n",
    "# PUT PATH OF EXISTS VIDEO FILE\n",
    "cap = cv2.VideoCapture('/home/linux/Desktop/Computer Vision/4. Video Basics with python and opencv/DATA/hand_move.mp4')\n",
    "\n",
    "# CHECK IF VIDEO IS NOT OPEN \n",
    "# WILL GET AN ERROR\n",
    "if cap.isOpened() == False:\n",
    "    print('ERROR FILE NOT FOUND OR WRONG CODEC USED!')\n",
    "\n",
    "# WHILE THE VIDEO IS OPENED \n",
    "while cap.isOpened():\n",
    "    \n",
    "    # READ THE VIDEO FILE\n",
    "    ret,frame = cap.read()\n",
    "    \n",
    "    # IF WE GOT FRAMES THEN SHOW THEM\n",
    "    if ret == True:\n",
    "        \n",
    "        time.sleep(1/50) # delay must be same as writer 20 frame per second\n",
    "        cv2.imshow('frame', frame)\n",
    "        \n",
    "        # PRESS (q) TO QUIT\n",
    "        if cv2.waitKey(10) & 0xFF == ord('q'):\n",
    "            break\n",
    "    # OR AUTOMATICALLY BREAK THIS WHOLE LOOP IF THE VIDEO IS OVER\n",
    "    else:\n",
    "        break\n",
    "\n",
    "cap.release()\n",
    "cv2.destroyAllWindows()"
   ]
  },
  {
   "cell_type": "code",
   "execution_count": null,
   "metadata": {},
   "outputs": [],
   "source": []
  }
 ],
 "metadata": {
  "kernelspec": {
   "display_name": "Python 3",
   "language": "python",
   "name": "python3"
  },
  "language_info": {
   "codemirror_mode": {
    "name": "ipython",
    "version": 3
   },
   "file_extension": ".py",
   "mimetype": "text/x-python",
   "name": "python",
   "nbconvert_exporter": "python",
   "pygments_lexer": "ipython3",
   "version": "3.6.6"
  }
 },
 "nbformat": 4,
 "nbformat_minor": 4
}
