{
 "cells": [
  {
   "cell_type": "code",
   "execution_count": 1,
   "metadata": {},
   "outputs": [
    {
     "data": {
      "text/plain": [
       "' OPTICAL FLOW '"
      ]
     },
     "execution_count": 1,
     "metadata": {},
     "output_type": "execute_result"
    }
   ],
   "source": [
    "\"\"\" OBJECT TRACKING \"\"\"\n",
    "# is the process of locating a moving object\n",
    "# Types of OT \n",
    "\"\"\" OPTICAL FLOW \"\"\"\n",
    "# 1. Will take given set of points and frames\n",
    "# 2. It will attempt to find those points in next frame\n",
    "# 3. It's up to user to supply the point to track by using object detection  "
   ]
  },
  {
   "cell_type": "code",
   "execution_count": 2,
   "metadata": {},
   "outputs": [],
   "source": [
    "import cv2 \n",
    "import numpy as np\n",
    "import matplotlib.pyplot as plt"
   ]
  },
  {
   "cell_type": "code",
   "execution_count": 3,
   "metadata": {},
   "outputs": [],
   "source": [
    "corner_track_params = dict(maxCorners = 10, qualityLevel = 0.3, minDistance = 7, blockSize = 7)"
   ]
  },
  {
   "cell_type": "code",
   "execution_count": 4,
   "metadata": {},
   "outputs": [],
   "source": [
    "#### Parameters for Lucas Kanade Optical Flow ####\n",
    "lk_params = dict(winSize = (200,200), maxLevel = 2, criteria = (cv2.TERM_CRITERIA_EPS | cv2.TERM_CRITERIA_COUNT, 10,0.03))\n",
    "# level -> represent different reslution"
   ]
  },
  {
   "cell_type": "code",
   "execution_count": 6,
   "metadata": {},
   "outputs": [],
   "source": [
    "# CAPUTER VIDEO \n",
    "cap = cv2.VideoCapture(0)\n",
    "\n",
    "# GRAB THE VERY FIRST FRAME OF THE CAMERA\n",
    "ret ,previous_frame = cap.read()\n",
    "\n",
    "# APPLYING GRAY SCALE\n",
    "previous_gray = cv2.cvtColor(previous_frame, cv2.COLOR_BGR2GRAY)\n",
    "\n",
    "# SELECT POINTS WANT TO BE TRACK\n",
    "previous_points = cv2.goodFeaturesToTrack(previous_gray, mask = None, **corner_track_params)\n",
    "\n",
    "# CREATE A MATCHING MASK OF THE PREVIOUS FRAME FOR DRAWING ON LATER\n",
    "mask = np.zeros_like(previous_frame)\n",
    "\n",
    "while True:\n",
    "    \n",
    "    # GRAB THE CURRENT FRAME\n",
    "    ret, frame = cap.read()\n",
    "    \n",
    "    # APPLYING GRAY SCALE\n",
    "    frame_gray = cv2.cvtColor(frame ,cv2.COLOR_BGR2GRAY)\n",
    "    \n",
    "    # CALCULATE OPTICAL FLOW ON GRAY SCALE IMAGE\n",
    "    # RETURN NEXT POINT IN CURRENT FRAME\n",
    "    next_points, status, err = cv2.calcOpticalFlowPyrLK(previous_gray,frame_gray, previous_points,None, **lk_params)\n",
    "    \n",
    "    # Using the returned status array (the status output)\n",
    "    # status output status vector (of unsigned chars); each element of the vector is set to 1 if\n",
    "    # the flow for the corresponding features has been found, otherwise, it is set to 0.\n",
    "    good_new = next_points[status ==1]\n",
    "    good_prev = previous_points[status ==1]\n",
    "    \n",
    "    # USE RAVEL TO GET POINTS TO DRAW LINES AND CIRCLES\n",
    "    for i, (new,prev) in enumerate(zip(good_new, good_prev)):\n",
    "        \n",
    "        x_new ,y_new = new.ravel()\n",
    "        x_prev ,y_prev = prev.ravel()\n",
    "        \n",
    "        # create line from previous farme to cuurent frame\n",
    "        mask = cv2.line(mask ,(x_new ,y_new) ,(x_prev,y_prev) ,(0,255,0) ,3)\n",
    "        \n",
    "        # create circle on current frame\n",
    "        frame = cv2.circle(frame,(x_new ,y_new) ,8 ,(255,0,0) ,-1)\n",
    "        \n",
    "    img = cv2.add(frame, mask)\n",
    "    cv2.imshow('tracking', img)\n",
    "    \n",
    "    \n",
    "    # CLOSE WINDOW\n",
    "    k = cv2.waitKey(30) & 0xFF\n",
    "    \n",
    "    if k == 27:\n",
    "        break\n",
    "     \n",
    "    # UPDATE PREVIOUS FRAME AND PREVIOUS POINT\n",
    "    previous_gray = frame_gray.copy()\n",
    "    previous_points = good_new.reshape(-1,1,2)\n",
    "    \n",
    "    \n",
    "cv2.destroyAllWindows()    \n",
    "cap.release()"
   ]
  },
  {
   "cell_type": "code",
   "execution_count": 7,
   "metadata": {},
   "outputs": [],
   "source": [
    "# we note that it's very good in slow tracking but with fast tracking may lose some of points"
   ]
  },
  {
   "cell_type": "code",
   "execution_count": 8,
   "metadata": {},
   "outputs": [
    {
     "data": {
      "text/plain": [
       "' DENSE OPTICAL FLOW '"
      ]
     },
     "execution_count": 8,
     "metadata": {},
     "output_type": "execute_result"
    }
   ],
   "source": [
    "\"\"\" DENSE OPTICAL FLOW \"\"\""
   ]
  },
  {
   "cell_type": "code",
   "execution_count": 9,
   "metadata": {},
   "outputs": [],
   "source": [
    "# CAPUTER VIDEO \n",
    "cap = cv2.VideoCapture(0)\n",
    "\n",
    "# GRAB THE VERY FIRST FRAME OF THE CAMERA\n",
    "ret ,frame1 = cap.read()\n",
    "\n",
    "# APPLYING GRAY SCALE \n",
    "prvsImg = cv2.cvtColor(previous_frame, cv2.COLOR_BGR2GRAY)\n",
    "\n",
    "# MAKE MASK IN HSV COLOR\n",
    "hsv_mask = np.zeros_like(frame1)\n",
    "hsv_mask[:,:,1] = 255\n",
    "\n",
    "while True:\n",
    "    \n",
    "    # GRAB THE CURRENT FRAME\n",
    "    ret, frame2 = cap.read()\n",
    "    \n",
    "    # APPLYING GRAY SCALE\n",
    "    nextImg = cv2.cvtColor(frame2 ,cv2.COLOR_BGR2GRAY)\n",
    "    \n",
    "    # CHECK OUT THE MARKDOWN TEXT ABOVE FOR A BREAK DOWN OF THESE PARAMETER, MOST OF THESE ARE JUST SUGESSTED  DEFAULTS\n",
    "    flow = cv2.calcOpticalFlowFarneback(prvsImg,nextImg, None, 0.5, 3, 15, 3, 5, 1.2, 0)\n",
    "\n",
    "    # CONVERT FLOW TO POLAR CORDINATE (MAGINTUDE AND ANGLE)\n",
    "    mag, ang = cv2.cartToPolar(flow[:,:,0], flow[:,:,1],angleInDegrees=True)\n",
    "    hsv_mask[:,:,0] = ang/2\n",
    "    hsv_mask[:,:,2] = cv2.normalize(mag,None,0,255,cv2.NORM_MINMAX)\n",
    "    \n",
    "    # CONVERT BACK TO BGR TO SHOW WITH IMSHOW FROM CV\n",
    "    bgr = cv2.cvtColor(hsv_mask,cv2.COLOR_HSV2BGR)\n",
    "    cv2.imshow('frame2',bgr)\n",
    "    \n",
    "    k = cv2.waitKey(30) & 0xff\n",
    "    if k == 27:\n",
    "        break\n",
    "        \n",
    "     # SET THE PREVIOUS IMAGE AS THE NEXT IMAGE FOR THE LOOP\n",
    "    prvsImg = nextImg\n",
    "\n",
    "    \n",
    "cap.release()\n",
    "cv2.destroyAllWindows()    "
   ]
  },
  {
   "cell_type": "code",
   "execution_count": null,
   "metadata": {},
   "outputs": [],
   "source": []
  }
 ],
 "metadata": {
  "kernelspec": {
   "display_name": "Python 3",
   "language": "python",
   "name": "python3"
  },
  "language_info": {
   "codemirror_mode": {
    "name": "ipython",
    "version": 3
   },
   "file_extension": ".py",
   "mimetype": "text/x-python",
   "name": "python",
   "nbconvert_exporter": "python",
   "pygments_lexer": "ipython3",
   "version": "3.6.6"
  }
 },
 "nbformat": 4,
 "nbformat_minor": 4
}
